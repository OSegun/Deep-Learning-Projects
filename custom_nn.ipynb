{
  "cells": [
    {
      "cell_type": "markdown",
      "metadata": {
        "id": "view-in-github",
        "colab_type": "text"
      },
      "source": [
        "<a href=\"https://colab.research.google.com/github/OSegun/Deep-Learning-Projects/blob/main/custom_nn.ipynb\" target=\"_parent\"><img src=\"https://colab.research.google.com/assets/colab-badge.svg\" alt=\"Open In Colab\"/></a>"
      ]
    },
    {
      "cell_type": "code",
      "execution_count": null,
      "metadata": {
        "id": "Ir5H8Bp2PbjZ"
      },
      "outputs": [],
      "source": [
        "# Importing Dependencies\n",
        "import numpy as np\n",
        "import pandas as pd\n",
        "import seaborn as sns\n",
        "from sklearn.preprocessing import StandardScaler\n",
        "from sklearn.model_selection import train_test_split\n",
        "from sklearn.metrics import confusion_matrix"
      ]
    },
    {
      "cell_type": "code",
      "execution_count": null,
      "metadata": {
        "id": "iEilqPKSPbjf",
        "outputId": "2f699e86-2ca8-4278-cd00-02a612e7d098"
      },
      "outputs": [
        {
          "data": {
            "text/html": [
              "<div>\n",
              "<style scoped>\n",
              "    .dataframe tbody tr th:only-of-type {\n",
              "        vertical-align: middle;\n",
              "    }\n",
              "\n",
              "    .dataframe tbody tr th {\n",
              "        vertical-align: top;\n",
              "    }\n",
              "\n",
              "    .dataframe thead th {\n",
              "        text-align: right;\n",
              "    }\n",
              "</style>\n",
              "<table border=\"1\" class=\"dataframe\">\n",
              "  <thead>\n",
              "    <tr style=\"text-align: right;\">\n",
              "      <th></th>\n",
              "      <th>age</th>\n",
              "      <th>sex</th>\n",
              "      <th>cp</th>\n",
              "      <th>trtbps</th>\n",
              "      <th>chol</th>\n",
              "      <th>fbs</th>\n",
              "      <th>restecg</th>\n",
              "      <th>thalachh</th>\n",
              "      <th>exng</th>\n",
              "      <th>oldpeak</th>\n",
              "      <th>slp</th>\n",
              "      <th>caa</th>\n",
              "      <th>thall</th>\n",
              "      <th>output</th>\n",
              "    </tr>\n",
              "  </thead>\n",
              "  <tbody>\n",
              "    <tr>\n",
              "      <th>0</th>\n",
              "      <td>63</td>\n",
              "      <td>1</td>\n",
              "      <td>3</td>\n",
              "      <td>145</td>\n",
              "      <td>233</td>\n",
              "      <td>1</td>\n",
              "      <td>0</td>\n",
              "      <td>150</td>\n",
              "      <td>0</td>\n",
              "      <td>2.3</td>\n",
              "      <td>0</td>\n",
              "      <td>0</td>\n",
              "      <td>1</td>\n",
              "      <td>1</td>\n",
              "    </tr>\n",
              "    <tr>\n",
              "      <th>1</th>\n",
              "      <td>37</td>\n",
              "      <td>1</td>\n",
              "      <td>2</td>\n",
              "      <td>130</td>\n",
              "      <td>250</td>\n",
              "      <td>0</td>\n",
              "      <td>1</td>\n",
              "      <td>187</td>\n",
              "      <td>0</td>\n",
              "      <td>3.5</td>\n",
              "      <td>0</td>\n",
              "      <td>0</td>\n",
              "      <td>2</td>\n",
              "      <td>1</td>\n",
              "    </tr>\n",
              "    <tr>\n",
              "      <th>2</th>\n",
              "      <td>41</td>\n",
              "      <td>0</td>\n",
              "      <td>1</td>\n",
              "      <td>130</td>\n",
              "      <td>204</td>\n",
              "      <td>0</td>\n",
              "      <td>0</td>\n",
              "      <td>172</td>\n",
              "      <td>0</td>\n",
              "      <td>1.4</td>\n",
              "      <td>2</td>\n",
              "      <td>0</td>\n",
              "      <td>2</td>\n",
              "      <td>1</td>\n",
              "    </tr>\n",
              "    <tr>\n",
              "      <th>3</th>\n",
              "      <td>56</td>\n",
              "      <td>1</td>\n",
              "      <td>1</td>\n",
              "      <td>120</td>\n",
              "      <td>236</td>\n",
              "      <td>0</td>\n",
              "      <td>1</td>\n",
              "      <td>178</td>\n",
              "      <td>0</td>\n",
              "      <td>0.8</td>\n",
              "      <td>2</td>\n",
              "      <td>0</td>\n",
              "      <td>2</td>\n",
              "      <td>1</td>\n",
              "    </tr>\n",
              "    <tr>\n",
              "      <th>4</th>\n",
              "      <td>57</td>\n",
              "      <td>0</td>\n",
              "      <td>0</td>\n",
              "      <td>120</td>\n",
              "      <td>354</td>\n",
              "      <td>0</td>\n",
              "      <td>1</td>\n",
              "      <td>163</td>\n",
              "      <td>1</td>\n",
              "      <td>0.6</td>\n",
              "      <td>2</td>\n",
              "      <td>0</td>\n",
              "      <td>2</td>\n",
              "      <td>1</td>\n",
              "    </tr>\n",
              "  </tbody>\n",
              "</table>\n",
              "</div>"
            ],
            "text/plain": [
              "   age  sex  cp  trtbps  chol  fbs  restecg  thalachh  exng  oldpeak  slp  \\\n",
              "0   63    1   3     145   233    1        0       150     0      2.3    0   \n",
              "1   37    1   2     130   250    0        1       187     0      3.5    0   \n",
              "2   41    0   1     130   204    0        0       172     0      1.4    2   \n",
              "3   56    1   1     120   236    0        1       178     0      0.8    2   \n",
              "4   57    0   0     120   354    0        1       163     1      0.6    2   \n",
              "\n",
              "   caa  thall  output  \n",
              "0    0      1       1  \n",
              "1    0      2       1  \n",
              "2    0      2       1  \n",
              "3    0      2       1  \n",
              "4    0      2       1  "
            ]
          },
          "execution_count": 2,
          "metadata": {},
          "output_type": "execute_result"
        }
      ],
      "source": [
        "# Loading the data\n",
        "# https://www.kaggle.com/datasets/rashikrahmanpritom/heart-attack-analysis-prediction-dataset\n",
        "df = pd.read_csv(\"heart.csv\")\n",
        "df.head()"
      ]
    },
    {
      "cell_type": "code",
      "execution_count": null,
      "metadata": {
        "id": "L61v19lLPbji",
        "outputId": "6da92380-7e5c-4d69-f1e4-e3a57ff73cc8"
      },
      "outputs": [
        {
          "name": "stdout",
          "output_type": "stream",
          "text": [
            "X: (303, 13)\n",
            "Y: (303,)\n"
          ]
        }
      ],
      "source": [
        "X = df.drop(columns=[\"output\"], axis=1).values\n",
        "y = df.output.values\n",
        "print(f\"X: {X.shape}\\nY: {y.shape}\")"
      ]
    },
    {
      "cell_type": "code",
      "execution_count": null,
      "metadata": {
        "id": "PYYvNQAYPbjj"
      },
      "outputs": [],
      "source": [
        "scale = StandardScaler()\n",
        "X = scale.fit_transform(X)\n",
        "X_train, X_test, y_train, y_test = train_test_split(X,y, test_size=0.2, random_state=32)"
      ]
    },
    {
      "cell_type": "code",
      "execution_count": null,
      "metadata": {
        "id": "YtaviYNDPbjj"
      },
      "outputs": [],
      "source": [
        "class NeuralArchitechure:\n",
        "\n",
        "    def __init__(self, lr, X_train, y_train, X_test, y_test):\n",
        "        self.w = np.random.randn(X_train.shape[1]) # weight\n",
        "        self.b = np.random.randn() # bias\n",
        "        self.lr = lr # learning rate\n",
        "        self.X_train = X_train\n",
        "        self.X_test = X_test\n",
        "        self.y_train = y_train\n",
        "        self.y_test = y_test\n",
        "        self.train_loss = []\n",
        "        self.test_loss = []\n",
        "\n",
        "    def activation(self, x): # sigmoid activation function\n",
        "        return 1 / (1 + np.exp(-x))\n",
        "\n",
        "    def activation_deravative(self, x):\n",
        "        return self.activation(x) * (1 - self.activation(x))\n",
        "\n",
        "    def forward(self, X):\n",
        "        hidden = np.dot(X, self.w) + self.b\n",
        "        activate = self.activation(hidden)\n",
        "        return activate\n",
        "\n",
        "    def backward(self, X, y_true): # Calculate gradients\n",
        "        hidden = np.dot(X, self.w) + self.b\n",
        "        y_pred = self.forward(X)\n",
        "        dl_pred = 2 * (y_pred - y_true)\n",
        "        dl_hidden = self.activation_deravative(hidden)\n",
        "        dhidden_db = 1\n",
        "        dhidden_dw = X\n",
        "\n",
        "        dl_db = dl_hidden * dhidden_db\n",
        "        dl_dw = dl_pred * dhidden_dw\n",
        "        return dl_db, dl_dw\n",
        "\n",
        "    def optimizer(self, dl_db, dl_dw): # update weights\n",
        "        self.b = self.b - dl_db * self.lr\n",
        "        self.w = self.w - dl_dw * self.lr\n",
        "\n",
        "    def train(self, Iterations):\n",
        "        for i in range(Iterations):\n",
        "            pos = np.random.randint(len(self.X_train))\n",
        "\n",
        "            # forward\n",
        "            y_train_true = self.y_train[pos]\n",
        "            y_train_pred = self.forward(self.X_train[pos])\n",
        "\n",
        "            # claculate loss\n",
        "            loss = np.sum(np.square(y_train_pred - y_train_true))\n",
        "            self.train_loss.append(loss)\n",
        "\n",
        "            # calculate gradients\n",
        "            dl_db, dl_dw = self.backward(\n",
        "                self.X_train[pos], self.y_train[pos]\n",
        "            )\n",
        "\n",
        "            # update weights\n",
        "            self.optimizer(dl_db, dl_dw)\n",
        "\n",
        "            # Calculting error at every epoch\n",
        "            loss_sum = 0\n",
        "            for i in range(len(self.X_test)):\n",
        "                y_true = self.y_test[i]\n",
        "                y_pred = self.forward(self.X_test[i])\n",
        "                loss_sum += np.square(y_pred - y_true)\n",
        "            self.test_loss.append(loss_sum)\n",
        "\n",
        "        return \"Training Successful\"\n",
        "\n",
        "\n"
      ]
    },
    {
      "cell_type": "code",
      "execution_count": null,
      "metadata": {
        "id": "88AZsaDbPbjk"
      },
      "outputs": [],
      "source": [
        "lr = 0.01\n",
        "iterations = 1000"
      ]
    },
    {
      "cell_type": "code",
      "execution_count": null,
      "metadata": {
        "id": "n0OWI-sePbjk",
        "outputId": "ae83d31c-9c4a-4e49-ef0d-0d26101a78ef"
      },
      "outputs": [
        {
          "data": {
            "text/plain": [
              "'Training Successful'"
            ]
          },
          "execution_count": 7,
          "metadata": {},
          "output_type": "execute_result"
        }
      ],
      "source": [
        "nn = NeuralArchitechure(\n",
        "    lr=lr, X_train=X_train, y_train=y_train, X_test=X_test, y_test=y_test)\n",
        "\n",
        "nn.train(Iterations=iterations)"
      ]
    },
    {
      "cell_type": "code",
      "execution_count": null,
      "metadata": {
        "id": "y9wkdzcFPbjl",
        "outputId": "bd46bd12-25a7-4ab9-d05c-2a810fee096d"
      },
      "outputs": [
        {
          "data": {
            "text/plain": [
              "<AxesSubplot:>"
            ]
          },
          "execution_count": 8,
          "metadata": {},
          "output_type": "execute_result"
        },
        {
          "data": {
            "image/png": "[encoded data removed]",
            "text/plain": [
              "<Figure size 432x288 with 1 Axes>"
            ]
          },
          "metadata": {
            "needs_background": "light"
          },
          "output_type": "display_data"
        }
      ],
      "source": [
        "sns.lineplot(x=list(range(len(nn.test_loss))), y=nn.test_loss)"
      ]
    },
    {
      "cell_type": "code",
      "execution_count": null,
      "metadata": {
        "id": "HfbE37_dPbjl"
      },
      "outputs": [],
      "source": [
        "y_preds = []\n",
        "num_correct = 0\n",
        "for i in range(X_test.shape[0]):\n",
        "    y_true = y_test[i]\n",
        "    y_pred = np.round(nn.forward(X_test[i]))\n",
        "    y_preds.append(y_pred)\n",
        "    if y_true == y_pred: num_correct += 1\n",
        "    else: 0"
      ]
    },
    {
      "cell_type": "code",
      "execution_count": null,
      "metadata": {
        "id": "DwKgYZnKPbjl",
        "outputId": "f58c2fba-13a7-4da8-e52e-449a8d59aec6"
      },
      "outputs": [
        {
          "data": {
            "text/plain": [
              "0.7704918032786885"
            ]
          },
          "execution_count": 10,
          "metadata": {},
          "output_type": "execute_result"
        }
      ],
      "source": [
        "accuracy = num_correct/X_test.shape[0]\n",
        "accuracy"
      ]
    },
    {
      "cell_type": "code",
      "execution_count": null,
      "metadata": {
        "id": "HA2JEnR8Pbjm",
        "outputId": "2eeeaa83-0f72-437b-84ee-a314317b43c9"
      },
      "outputs": [
        {
          "data": {
            "text/plain": [
              "array([[27,  3],\n",
              "       [11, 20]], dtype=int64)"
            ]
          },
          "execution_count": 11,
          "metadata": {},
          "output_type": "execute_result"
        }
      ],
      "source": [
        "confusion_matrix(y_test, y_preds)"
      ]
    },
    {
      "cell_type": "code",
      "execution_count": null,
      "metadata": {
        "id": "wIliTOCOPbjm"
      },
      "outputs": [],
      "source": []
    }
  ],
  "metadata": {
    "kernelspec": {
      "display_name": "pytorch",
      "language": "python",
      "name": "python3"
    },
    "language_info": {
      "codemirror_mode": {
        "name": "ipython",
        "version": 3
      },
      "file_extension": ".py",
      "mimetype": "text/x-python",
      "name": "python",
      "nbconvert_exporter": "python",
      "pygments_lexer": "ipython3",
      "version": "3.10.4"
    },
    "colab": {
      "provenance": [],
      "include_colab_link": true
    }
  },
  "nbformat": 4,
  "nbformat_minor": 0
}