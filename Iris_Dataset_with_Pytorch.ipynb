{
  "nbformat": 4,
  "nbformat_minor": 0,
  "metadata": {
    "colab": {
      "provenance": [],
      "authorship_tag": "ABX9TyOutiTHen4WBMkKrQ/yvVn8",
      "include_colab_link": true
    },
    "kernelspec": {
      "name": "python3",
      "display_name": "Python 3"
    },
    "language_info": {
      "name": "python"
    }
  },
  "cells": [
    {
      "cell_type": "markdown",
      "metadata": {
        "id": "view-in-github",
        "colab_type": "text"
      },
      "source": [
        "<a href=\"https://colab.research.google.com/github/OSegun/Deep-Learning-Projects/blob/main/Iris_Dataset_with_Pytorch.ipynb\" target=\"_parent\"><img src=\"https://colab.research.google.com/assets/colab-badge.svg\" alt=\"Open In Colab\"/></a>"
      ]
    },
    {
      "cell_type": "code",
      "execution_count": 5,
      "metadata": {
        "id": "p_xTy5--SDBX"
      },
      "outputs": [],
      "source": [
        "from sklearn.datasets import load_iris\n",
        "import torch\n",
        "from torch.utils.data import Dataset, DataLoader\n",
        "import torch.nn as nn\n",
        "from sklearn.model_selection import train_test_split\n",
        "import numpy as np\n",
        "import seaborn as sns"
      ]
    },
    {
      "cell_type": "code",
      "source": [
        "iris = load_iris()\n",
        "\n",
        "X = iris.data\n",
        "y = iris.target"
      ],
      "metadata": {
        "id": "I7O2s2-iS1px"
      },
      "execution_count": 31,
      "outputs": []
    },
    {
      "cell_type": "code",
      "source": [
        "y"
      ],
      "metadata": {
        "colab": {
          "base_uri": "https://localhost:8080/"
        },
        "id": "NHw6tvFlTHYo",
        "outputId": "530bd403-fc72-4cf7-e0d0-ef3da285f13b"
      },
      "execution_count": 32,
      "outputs": [
        {
          "output_type": "execute_result",
          "data": {
            "text/plain": [
              "array([0, 0, 0, 0, 0, 0, 0, 0, 0, 0, 0, 0, 0, 0, 0, 0, 0, 0, 0, 0, 0, 0,\n",
              "       0, 0, 0, 0, 0, 0, 0, 0, 0, 0, 0, 0, 0, 0, 0, 0, 0, 0, 0, 0, 0, 0,\n",
              "       0, 0, 0, 0, 0, 0, 1, 1, 1, 1, 1, 1, 1, 1, 1, 1, 1, 1, 1, 1, 1, 1,\n",
              "       1, 1, 1, 1, 1, 1, 1, 1, 1, 1, 1, 1, 1, 1, 1, 1, 1, 1, 1, 1, 1, 1,\n",
              "       1, 1, 1, 1, 1, 1, 1, 1, 1, 1, 1, 1, 2, 2, 2, 2, 2, 2, 2, 2, 2, 2,\n",
              "       2, 2, 2, 2, 2, 2, 2, 2, 2, 2, 2, 2, 2, 2, 2, 2, 2, 2, 2, 2, 2, 2,\n",
              "       2, 2, 2, 2, 2, 2, 2, 2, 2, 2, 2, 2, 2, 2, 2, 2, 2, 2])"
            ]
          },
          "metadata": {},
          "execution_count": 32
        }
      ]
    },
    {
      "cell_type": "code",
      "source": [
        "X_train,X_test,y_train,y_test = train_test_split(X,y,test_size=0.2, random_state=22)\n",
        "X_train = X_train.astype(\"float32\")\n",
        "X_test = X_test.astype(\"float32\")"
      ],
      "metadata": {
        "id": "ZW_HXXcFTUAH"
      },
      "execution_count": 46,
      "outputs": []
    },
    {
      "cell_type": "code",
      "source": [
        "class IrisDataset(Dataset):\n",
        "\n",
        "  def __init__(self, X_train, y_train):\n",
        "    super().__init__()\n",
        "    self.X_train = torch.from_numpy(X_train)\n",
        "    self.y_train = torch.from_numpy(y_train).type(torch.LongTensor)\n",
        "\n",
        "  def __len__(self):\n",
        "    return len(self.X_train)\n",
        "\n",
        "  def __getitem__(self, index):\n",
        "    return self.X_train[index], self.y_train[index]\n",
        "\n",
        "\n",
        "iris_df = IrisDataset(X_train=X_train, y_train=y_train)\n",
        "train_dataloader = DataLoader(dataset=iris_df, batch_size=32)"
      ],
      "metadata": {
        "id": "zQHOerJiUQ52"
      },
      "execution_count": 68,
      "outputs": []
    },
    {
      "cell_type": "code",
      "source": [
        "class ModelClassifer(nn.Module):\n",
        "\n",
        "  def __init__(self, features, hidden, classes):\n",
        "    super().__init__()\n",
        "    self.layer1 = nn.Linear(features, hidden)\n",
        "    self.layer2 = nn.Linear(hidden, classes)\n",
        "    self.output = nn.LogSoftmax(dim=1)\n",
        "\n",
        "\n",
        "  def forward(self, x):\n",
        "    x = self.layer1(x)\n",
        "    x = torch.sigmoid(x)\n",
        "    x = self.layer2(x)\n",
        "    x = self.output(x)\n",
        "    return x\n",
        "\n",
        "features = iris_df.X_train.shape[1]\n",
        "hidden = 12\n",
        "classes = len(iris_df.y_train.unique())"
      ],
      "metadata": {
        "id": "arbLkOxZUwTk"
      },
      "execution_count": 53,
      "outputs": []
    },
    {
      "cell_type": "code",
      "source": [
        "def train_model(model, criterion, epochs, optimzer):\n",
        "  losses = []\n",
        "  for epoch in range(epochs):\n",
        "    for x,y in train_dataloader:\n",
        "      optimzer.zero_grad()\n",
        "      pred = model(x)\n",
        "      loss = criterion(pred, y)\n",
        "      loss.backward()\n",
        "      optimzer.step()\n",
        "\n",
        "  losses.append(float(loss.data.detach().numpy()))\n",
        "\n",
        "  return f\"Loss: {losses}\""
      ],
      "metadata": {
        "id": "0ilJOvxqjAq_"
      },
      "execution_count": 72,
      "outputs": []
    },
    {
      "cell_type": "code",
      "source": [
        "model = ModelClassifer(\n",
        "    features=features,\n",
        "    hidden=hidden,\n",
        "    classes=classes\n",
        "    )\n",
        "\n",
        "criterion = nn.CrossEntropyLoss()\n",
        "optimzer = torch.optim.SGD(model.parameters(), lr=0.001)\n",
        "\n",
        "train_model(\n",
        "    model=model,\n",
        "    criterion=criterion,\n",
        "    epochs=10000,\n",
        "    optimzer=optimzer\n",
        "    )"
      ],
      "metadata": {
        "colab": {
          "base_uri": "https://localhost:8080/",
          "height": 35
        },
        "id": "1_8n2auUYcPH",
        "outputId": "ae5a40a7-bd57-4de9-ed7a-a9c7db4b874c"
      },
      "execution_count": 73,
      "outputs": [
        {
          "output_type": "execute_result",
          "data": {
            "text/plain": [
              "'Loss: [0.32268592715263367]'"
            ],
            "application/vnd.google.colaboratory.intrinsic+json": {
              "type": "string"
            }
          },
          "metadata": {},
          "execution_count": 73
        }
      ]
    },
    {
      "cell_type": "code",
      "source": [
        "#sns.lineplot(x=range(10000), y=losses)"
      ],
      "metadata": {
        "id": "BIQAmdVMqvxp"
      },
      "execution_count": 74,
      "outputs": []
    },
    {
      "cell_type": "code",
      "source": [
        "X_test = torch.from_numpy(X_test)\n",
        "\n",
        "with torch.no_grad():\n",
        "  y_pred = model(X_test)\n",
        "  y_pred = torch.max(y_pred.data, 1)"
      ],
      "metadata": {
        "id": "nU-UdxlCvtNe"
      },
      "execution_count": 75,
      "outputs": []
    },
    {
      "cell_type": "code",
      "source": [
        "from sklearn.metrics import accuracy_score, confusion_matrix, classification_report\n",
        "\n",
        "accuracy_score(y_test, y_pred.indices)"
      ],
      "metadata": {
        "colab": {
          "base_uri": "https://localhost:8080/"
        },
        "id": "0NBtesZfwQJ0",
        "outputId": "106ff832-d027-4ae0-b041-3318d2497d8f"
      },
      "execution_count": 80,
      "outputs": [
        {
          "output_type": "execute_result",
          "data": {
            "text/plain": [
              "1.0"
            ]
          },
          "metadata": {},
          "execution_count": 80
        }
      ]
    },
    {
      "cell_type": "code",
      "source": [
        "confusion_matrix(y_test, y_pred.indices)"
      ],
      "metadata": {
        "colab": {
          "base_uri": "https://localhost:8080/"
        },
        "id": "VS_71l0EwepZ",
        "outputId": "35f96124-ed54-4881-a9e2-b724e7d9c717"
      },
      "execution_count": 79,
      "outputs": [
        {
          "output_type": "execute_result",
          "data": {
            "text/plain": [
              "array([[ 6,  0,  0],\n",
              "       [ 0, 10,  0],\n",
              "       [ 0,  0, 14]])"
            ]
          },
          "metadata": {},
          "execution_count": 79
        }
      ]
    },
    {
      "cell_type": "code",
      "source": [
        "print(classification_report(y_test, y_pred.indices))"
      ],
      "metadata": {
        "colab": {
          "base_uri": "https://localhost:8080/"
        },
        "id": "k5M5N3pcwxlR",
        "outputId": "859719f0-8844-4db2-ddff-769a00d27a9e"
      },
      "execution_count": 82,
      "outputs": [
        {
          "output_type": "stream",
          "name": "stdout",
          "text": [
            "              precision    recall  f1-score   support\n",
            "\n",
            "           0       1.00      1.00      1.00         6\n",
            "           1       1.00      1.00      1.00        10\n",
            "           2       1.00      1.00      1.00        14\n",
            "\n",
            "    accuracy                           1.00        30\n",
            "   macro avg       1.00      1.00      1.00        30\n",
            "weighted avg       1.00      1.00      1.00        30\n",
            "\n"
          ]
        }
      ]
    },
    {
      "cell_type": "code",
      "source": [],
      "metadata": {
        "id": "VQKkzhr8xBbr"
      },
      "execution_count": null,
      "outputs": []
    }
  ]
}